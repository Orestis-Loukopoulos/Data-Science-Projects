{
 "cells": [
  {
   "cell_type": "markdown",
   "id": "e0bb52ac-7999-411c-84bc-fca3c26d5ae1",
   "metadata": {},
   "source": [
    "## Loukopoulos Orestis | f2822104"
   ]
  },
  {
   "cell_type": "code",
   "execution_count": 133,
   "id": "37d7bbd2-3fa9-4812-81a3-c3a93c69d8f4",
   "metadata": {},
   "outputs": [],
   "source": [
    "from pyspark.sql.session import SparkSession\n",
    "\n",
    "spark = SparkSession.builder.appName(\"books\").getOrCreate()"
   ]
  },
  {
   "cell_type": "markdown",
   "id": "334b059b-5ddc-4fbf-bf49-5b98344c96ce",
   "metadata": {},
   "source": [
    "* We will load the json file in a dataframe(`df1`)"
   ]
  },
  {
   "cell_type": "code",
   "execution_count": 134,
   "id": "aee68d63-11b7-4e9f-bf29-e4b2f7303ac0",
   "metadata": {},
   "outputs": [
    {
     "data": {
      "text/plain": [
       "pyspark.sql.dataframe.DataFrame"
      ]
     },
     "execution_count": 134,
     "metadata": {},
     "output_type": "execute_result"
    }
   ],
   "source": [
    "df1 = spark.read.json('Assignment Spark/books_5000.json')\n",
    "type(df1)"
   ]
  },
  {
   "cell_type": "markdown",
   "id": "c567a83a-a5e9-456e-8865-82e22a7e53dc",
   "metadata": {},
   "source": [
    "* We will count and display the number of books in the database."
   ]
  },
  {
   "cell_type": "code",
   "execution_count": 135,
   "id": "2bda2e10-bc3e-4d89-bc15-32a69e54d449",
   "metadata": {},
   "outputs": [
    {
     "data": {
      "text/plain": [
       "4999"
      ]
     },
     "execution_count": 135,
     "metadata": {},
     "output_type": "execute_result"
    }
   ],
   "source": [
    "df1.count()"
   ]
  },
  {
   "cell_type": "markdown",
   "id": "d78389d8-9aa9-43fe-baef-daa0a80dfea4",
   "metadata": {},
   "source": [
    "* Continuing, we will count and display the number of e-books in the database."
   ]
  },
  {
   "cell_type": "code",
   "execution_count": 136,
   "id": "2c00352f-1ae5-48c6-9204-12c5d5448756",
   "metadata": {},
   "outputs": [
    {
     "data": {
      "text/plain": [
       "749"
      ]
     },
     "execution_count": 136,
     "metadata": {},
     "output_type": "execute_result"
    }
   ],
   "source": [
    "df1.filter(df1.is_ebook.contains(\"true\")).count()"
   ]
  },
  {
   "cell_type": "markdown",
   "id": "2cc6a682-8f46-41c9-bc88-c9075bffccf0",
   "metadata": {},
   "source": [
    "* We will display some basic statistics about the `average_rating` field. In order to do that we will convert the `average_rating` column into numeric."
   ]
  },
  {
   "cell_type": "code",
   "execution_count": 141,
   "id": "87223cb1-7e32-4074-9e97-e28432068200",
   "metadata": {},
   "outputs": [],
   "source": [
    "from pyspark.sql.functions import *\n",
    "\n",
    "df1 = df1.withColumn('average_rating',col('average_rating').cast('double'))"
   ]
  },
  {
   "cell_type": "code",
   "execution_count": 142,
   "id": "767265b1-149e-469a-8020-814db9578939",
   "metadata": {},
   "outputs": [
    {
     "name": "stdout",
     "output_type": "stream",
     "text": [
      "+-------+------------------+\n",
      "|summary|    average_rating|\n",
      "+-------+------------------+\n",
      "|  count|              4999|\n",
      "|   mean| 3.911204240848176|\n",
      "| stddev|0.4344448952868878|\n",
      "|    min|               1.0|\n",
      "|    25%|              3.66|\n",
      "|    50%|              3.98|\n",
      "|    75%|              4.23|\n",
      "|    max|               5.0|\n",
      "+-------+------------------+\n",
      "\n"
     ]
    }
   ],
   "source": [
    "df1.select(\"average_rating\").summary().show()"
   ]
  },
  {
   "cell_type": "markdown",
   "id": "9d42993d-1c69-49cd-bc2a-ce874313e261",
   "metadata": {},
   "source": [
    "* We will also display all the distinct values in the `format` field and their number of appearances."
   ]
  },
  {
   "cell_type": "code",
   "execution_count": 143,
   "id": "e2249805-686a-48da-b925-a9796ae01a45",
   "metadata": {},
   "outputs": [
    {
     "name": "stdout",
     "output_type": "stream",
     "text": [
      "+--------------------+-----+\n",
      "|              format|count|\n",
      "+--------------------+-----+\n",
      "|Paperback comic book|    1|\n",
      "|        Spiral-bound|    1|\n",
      "|              Broche|    2|\n",
      "|       Graphic Novel|    2|\n",
      "|                  FC|    2|\n",
      "|            Brochura|    1|\n",
      "|           Paperback| 2629|\n",
      "|        Single Issue|    1|\n",
      "|Bolsillo con sobr...|    2|\n",
      "|          Broschiert|    2|\n",
      "|             Planeta|    1|\n",
      "|       Audible Audio|    1|\n",
      "|            Audio CD|    2|\n",
      "|           paperback|    2|\n",
      "| Slipcased Hardcover|    2|\n",
      "|     Library Binding|    2|\n",
      "|       Klappbroschur|    1|\n",
      "|          Board book|   11|\n",
      "|     Klappenbroschur|    1|\n",
      "|                Nook|    1|\n",
      "+--------------------+-----+\n",
      "only showing top 20 rows\n",
      "\n"
     ]
    }
   ],
   "source": [
    "df1.groupby('format').count().show()"
   ]
  }
 ],
 "metadata": {
  "kernelspec": {
   "display_name": "Python 3 (ipykernel)",
   "language": "python",
   "name": "python3"
  },
  "language_info": {
   "codemirror_mode": {
    "name": "ipython",
    "version": 3
   },
   "file_extension": ".py",
   "mimetype": "text/x-python",
   "name": "python",
   "nbconvert_exporter": "python",
   "pygments_lexer": "ipython3",
   "version": "3.9.10"
  }
 },
 "nbformat": 4,
 "nbformat_minor": 5
}
